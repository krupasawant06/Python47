{
  "cells": [
    {
      "cell_type": "markdown",
      "metadata": {
        "id": "view-in-github",
        "colab_type": "text"
      },
      "source": [
        "<a href=\"https://colab.research.google.com/github/krupasawant06/Python47/blob/main/PYTHON.ipynb\" target=\"_parent\"><img src=\"https://colab.research.google.com/assets/colab-badge.svg\" alt=\"Open In Colab\"/></a>"
      ]
    },
    {
      "cell_type": "code",
      "execution_count": null,
      "metadata": {
        "colab": {
          "base_uri": "https://localhost:8080/"
        },
        "id": "fUSQW4BZr0j-",
        "outputId": "989213d4-27d3-41d8-bb49-30eebcaa7374"
      },
      "outputs": [
        {
          "name": "stdout",
          "output_type": "stream",
          "text": [
            "Enter S150\n",
            "Enter S260\n",
            "Enter S370\n",
            "Enter S470\n",
            "Enter S577\n",
            "65.4 %\n"
          ]
        }
      ],
      "source": [
        "S1=int(input(\"Enter S1\"))\n",
        "S2=int(input(\"Enter S2\"))\n",
        "S3=int(input(\"Enter S3\"))\n",
        "S4=int(input(\"Enter S4\"))\n",
        "S5=int(input(\"Enter S5\"))\n",
        "per=(S1+S2+S3+S4+S5)/5\n",
        "print(per,\"%\")"
      ]
    },
    {
      "cell_type": "code",
      "source": [
        "S1=int(input(\"Enter S1\"))\n",
        "S2=int(input(\"Enter S2\"))\n",
        "S3=int(input(\"Enter S3\"))\n",
        "S4=int(input(\"Enter S4\"))\n",
        "S5=int(input(\"Enter S5\"))\n",
        "per=(S1+S2+S3+S4+S5)/5\n",
        "print(per,\"%\")\n",
        "if(per<35):\n",
        "   print(\"Fail\")\n",
        "elif(per<40):\n",
        "   print(\"pass class\")\n",
        "elif(per<60):\n",
        "   print(\"second class\")\n",
        "elif(per<75):\n",
        "   print(\"first class\")\n",
        "elif(per>101):\n",
        "   print(\"Not applicable\")\n",
        "else:\n",
        "   print(\"distinction\")"
      ],
      "metadata": {
        "colab": {
          "base_uri": "https://localhost:8080/"
        },
        "id": "6yOMQoi8kLXS",
        "outputId": "f6cc4c38-7949-4991-a619-a0c6151c5b0f"
      },
      "execution_count": null,
      "outputs": [
        {
          "output_type": "stream",
          "name": "stdout",
          "text": [
            "Enter S150\n",
            "Enter S260\n",
            "Enter S370\n",
            "Enter S487\n",
            "Enter S570\n",
            "67.4 %\n",
            "first class\n"
          ]
        }
      ]
    },
    {
      "cell_type": "code",
      "source": [
        "age = int(input(\"Enter your age\"))\n",
        "if 16 >= age < 18:\n",
        "   print(\"Eligible for part-time jobs\")\n",
        "elif 18 >= age <= 65:\n",
        "   print(\"Eligible for full-time jobs\")\n",
        "else:\n",
        "   print(\"Not Eligible for any job yet\")"
      ],
      "metadata": {
        "colab": {
          "base_uri": "https://localhost:8080/"
        },
        "id": "lmvpx0pvkaye",
        "outputId": "d5d56cc1-2f00-4e60-b14a-39b669e7a472"
      },
      "execution_count": null,
      "outputs": [
        {
          "output_type": "stream",
          "name": "stdout",
          "text": [
            "Enter your age18\n",
            "Eligible for full-time jobs\n"
          ]
        }
      ]
    },
    {
      "cell_type": "code",
      "source": [
        "a=input(\"enter your choice,whether you want breakfast,lunch or dinner=\")\n",
        "if a==\"breakfast\":\n",
        " choice=input(\"enter your choice,whether you want western dish or north-indian dish=\")\n",
        " if choice==\"western\":\n",
        "    wd=input(\"you have 2 choice for western-pancakes or sandwich..enter your choice=\")\n",
        "    if wd==\"pancakes\":\n",
        "        print(\"you have ordered pancakes for breakfast\")\n",
        "    elif wd==\"sandwich\":\n",
        "        print(\"you have ordered sandwich for breakfast\")\n",
        "    else:\n",
        "        print(\"no other dish available\")\n",
        " if choice==\"north-indian\":\n",
        "     ni=input(\"you have 2 choice for north-indian dish-poha or upma...enter your choice=\")\n",
        "     if ni==\"poha\":\n",
        "         print(\"you have ordered poha for breakfast\")\n",
        "     elif ni==\"upma\":\n",
        "         print(\"you have ordered poha for breakfast\")\n",
        "     else:\n",
        "         print('no other dish available')\n",
        "if a==\"lunch\":\n",
        "    choice=input(\"enter your choice whether you want south-indian dish or north-indian dish=\")\n",
        "    if choice==\"south-indian\":\n",
        "        si=input(\"you have 2 choice for south-indian dish-mango rasam or banana leaf plate..enter your choice= \")\n",
        "        if si==\"mango rasam\":\n",
        "            print(\"you have ordered mango rasam for lunch\")\n",
        "        elif si==\"banana leaf plate\":\n",
        "            print(\"you have ordered banana leaf plate for lunch\")\n",
        "        else:\n",
        "            print(\"no other dish available for now\")\n",
        "    if choice==\"north-indian\":\n",
        "        ni=input(\"you have 2 choice for north-indian dish-rajma rice or dal rice...enter your choice=\")\n",
        "        if ni==\"rajma rice\":\n",
        "            print(\"you have ordered rajma rice\")\n",
        "        elif ni==\"dal rice\":\n",
        "            print(\"you have ordered dal rice\")\n",
        "        else:\n",
        "            print(\"no other food available for now\")\n",
        "if a==\"dinner\":\n",
        "    choice=input(\"enter your choice whether you want south-indian dish or north-indian dish=\")\n",
        "    if choice==\"south-indian\":\n",
        "        si=input(\"you have 2 choice for south-indian dish-korri gassi or bisi bele bhaat...enter your choice= \")\n",
        "        if si==\"korri gassi\":\n",
        "            print(\"you have ordered\")\n",
        "        elif si==\"gassi bisi bele\":\n",
        "            print(\"you have ordered gassi bisi bele\")\n",
        "        else:\n",
        "            print(\"no other food available for now\")\n",
        "    if choice==\"north-indian\":\n",
        "        ni=input(\"you have 2 choice for north-indian dish-kadai paneer with naan or paneer tikka with pulaav...enter your choice=\")\n",
        "        if ni==\"kadai paneer with naan\":\n",
        "            print(\"you have ordered kadai paneer with naan\")\n",
        "        elif ni==\"paneer tikka with pulaav\":\n",
        "            print(\"you have ordered paneer tikka with pulaav\")\n",
        "        else:\n",
        "            print(\"no other food available for now\")"
      ],
      "metadata": {
        "colab": {
          "base_uri": "https://localhost:8080/"
        },
        "id": "DM0FsHF8lKwi",
        "outputId": "c1be1fa2-e22a-4437-fe0a-c4903dfec39e"
      },
      "execution_count": null,
      "outputs": [
        {
          "output_type": "stream",
          "name": "stdout",
          "text": [
            "enter your choice,whether you want breakfast,lunch or dinner=lunch\n",
            "enter your choice whether you want south-indian dish or north-indian dish=north-indian\n",
            "you have 2 choice for north-indian dish-rajma rice or dal rice...enter your choice=dal rice\n",
            "you have ordered dal rice\n"
          ]
        }
      ]
    },
    {
      "cell_type": "code",
      "source": [
        "for i in range(0,101,5):\n",
        "    print(i);"
      ],
      "metadata": {
        "colab": {
          "base_uri": "https://localhost:8080/"
        },
        "id": "LjplkIZ0pLy-",
        "outputId": "c8aa1e72-51dd-4427-ba05-dad756551377"
      },
      "execution_count": null,
      "outputs": [
        {
          "output_type": "stream",
          "name": "stdout",
          "text": [
            "0\n",
            "5\n",
            "10\n",
            "15\n",
            "20\n",
            "25\n",
            "30\n",
            "35\n",
            "40\n",
            "45\n",
            "50\n",
            "55\n",
            "60\n",
            "65\n",
            "70\n",
            "75\n",
            "80\n",
            "85\n",
            "90\n",
            "95\n",
            "100\n"
          ]
        }
      ]
    },
    {
      "cell_type": "code",
      "source": [
        "a=int(input(\"Enter number\"))\n",
        "for i in range(1,11):\n",
        "    print(a,\"X\",i,\"=\",a*i)"
      ],
      "metadata": {
        "colab": {
          "base_uri": "https://localhost:8080/"
        },
        "id": "siPG-a0WptBr",
        "outputId": "0f313b20-7223-40bb-d703-522d7f12ce98"
      },
      "execution_count": null,
      "outputs": [
        {
          "output_type": "stream",
          "name": "stdout",
          "text": [
            "Enter number4\n",
            "4 X 1 = 4\n",
            "4 X 2 = 8\n",
            "4 X 3 = 12\n",
            "4 X 4 = 16\n",
            "4 X 5 = 20\n",
            "4 X 6 = 24\n",
            "4 X 7 = 28\n",
            "4 X 8 = 32\n",
            "4 X 9 = 36\n",
            "4 X 10 = 40\n"
          ]
        }
      ]
    },
    {
      "cell_type": "code",
      "source": [
        "a=int(input(\"Enter number\"))\n",
        "if(a>=10):\n",
        "  print(\"Invalid\")\n",
        "else:\n",
        "  while i in range(1,11):\n",
        "    print(a,\"X\",i,\"=\",a*i)\n",
        "    i=i+1"
      ],
      "metadata": {
        "colab": {
          "base_uri": "https://localhost:8080/"
        },
        "id": "G3fF2qNA3Q3M",
        "outputId": "626c4bbd-63e8-4931-984f-356c9acb7dbb"
      },
      "execution_count": null,
      "outputs": [
        {
          "output_type": "stream",
          "name": "stdout",
          "text": [
            "Enter number34\n",
            "Invalid\n"
          ]
        }
      ]
    }
  ],
  "metadata": {
    "colab": {
      "provenance": [],
      "authorship_tag": "ABX9TyNo3IzlGHXT33RJJX6H3MWA",
      "include_colab_link": true
    },
    "kernelspec": {
      "display_name": "Python 3",
      "name": "python3"
    },
    "language_info": {
      "name": "python"
    }
  },
  "nbformat": 4,
  "nbformat_minor": 0
}